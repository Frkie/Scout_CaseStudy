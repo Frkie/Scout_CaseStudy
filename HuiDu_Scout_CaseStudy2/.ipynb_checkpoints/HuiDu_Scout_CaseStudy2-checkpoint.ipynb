{
 "cells": [
  {
   "cell_type": "code",
   "execution_count": 28,
   "metadata": {},
   "outputs": [
    {
     "data": {
      "text/plain": [
       "'There is 1 dataset(csv) with 3 years worth of customer orders. There are 4 columns in the csv dataset:\\nindex, CUSTOMER_EMAIL(unique identifier as hash), Net_Revenue, and Year.\\nFor each year we need the following information:\\n\\uf0b7 Total revenue for the current year\\n\\uf0b7 New Customer Revenue e.g. new customers not present in previous year only\\n\\uf0b7 Existing Customer Growth. To calculate this, use the Revenue of existing customers for current\\nyear –(minus) Revenue of existing customers from the previous year\\n\\uf0b7 Revenue lost from attrition\\n\\uf0b7 Existing Customer Revenue Current Year\\n\\uf0b7 Existing Customer Revenue Prior Year\\n\\uf0b7 Total Customers Current Year\\n\\uf0b7 Total Customers Previous Year\\n\\uf0b7 New Customers\\n\\uf0b7 Lost Customers\\nAdditionally, generate a few unique plots highlighting some information from the dataset. Are there any\\ninteresting observations?'"
      ]
     },
     "execution_count": 28,
     "metadata": {},
     "output_type": "execute_result"
    }
   ],
   "source": [
    "'''There is 1 dataset(csv) with 3 years worth of customer orders. There are 4 columns in the csv dataset:\n",
    "index, CUSTOMER_EMAIL(unique identifier as hash), Net_Revenue, and Year.\n",
    "For each year we need the following information:\n",
    " Total revenue for the current year\n",
    " New Customer Revenue e.g. new customers not present in previous year only\n",
    " Existing Customer Growth. To calculate this, use the Revenue of existing customers for current\n",
    "year –(minus) Revenue of existing customers from the previous year\n",
    " Revenue lost from attrition\n",
    " Existing Customer Revenue Current Year\n",
    " Existing Customer Revenue Prior Year\n",
    " Total Customers Current Year\n",
    " Total Customers Previous Year\n",
    " New Customers\n",
    " Lost Customers\n",
    "Additionally, generate a few unique plots highlighting some information from the dataset. Are there any\n",
    "interesting observations?'''"
   ]
  },
  {
   "cell_type": "code",
   "execution_count": 29,
   "metadata": {},
   "outputs": [
    {
     "data": {
      "text/plain": [
       "(685927, 4)"
      ]
     },
     "execution_count": 29,
     "metadata": {},
     "output_type": "execute_result"
    }
   ],
   "source": [
    "\n",
    "import numpy as np  \n",
    "import pandas as pd  \n",
    "import matplotlib.pyplot as plt\n",
    "import seaborn as sns\n",
    "\n",
    "data = pd.read_csv('casestudy.csv')\n",
    "data.shape"
   ]
  },
  {
   "cell_type": "code",
   "execution_count": 30,
   "metadata": {},
   "outputs": [
    {
     "data": {
      "text/html": [
       "<div>\n",
       "<style scoped>\n",
       "    .dataframe tbody tr th:only-of-type {\n",
       "        vertical-align: middle;\n",
       "    }\n",
       "\n",
       "    .dataframe tbody tr th {\n",
       "        vertical-align: top;\n",
       "    }\n",
       "\n",
       "    .dataframe thead th {\n",
       "        text-align: right;\n",
       "    }\n",
       "</style>\n",
       "<table border=\"1\" class=\"dataframe\">\n",
       "  <thead>\n",
       "    <tr style=\"text-align: right;\">\n",
       "      <th></th>\n",
       "      <th>Unnamed: 0</th>\n",
       "      <th>customer_email</th>\n",
       "      <th>net_revenue</th>\n",
       "      <th>year</th>\n",
       "    </tr>\n",
       "  </thead>\n",
       "  <tbody>\n",
       "    <tr>\n",
       "      <th>0</th>\n",
       "      <td>0</td>\n",
       "      <td>nhknapwsbx@gmail.com</td>\n",
       "      <td>249.92</td>\n",
       "      <td>2015</td>\n",
       "    </tr>\n",
       "    <tr>\n",
       "      <th>1</th>\n",
       "      <td>1</td>\n",
       "      <td>joiuzbvcpn@gmail.com</td>\n",
       "      <td>87.61</td>\n",
       "      <td>2015</td>\n",
       "    </tr>\n",
       "    <tr>\n",
       "      <th>2</th>\n",
       "      <td>2</td>\n",
       "      <td>ukkjctepxt@gmail.com</td>\n",
       "      <td>168.38</td>\n",
       "      <td>2015</td>\n",
       "    </tr>\n",
       "    <tr>\n",
       "      <th>3</th>\n",
       "      <td>3</td>\n",
       "      <td>gykatilzrt@gmail.com</td>\n",
       "      <td>62.40</td>\n",
       "      <td>2015</td>\n",
       "    </tr>\n",
       "    <tr>\n",
       "      <th>4</th>\n",
       "      <td>4</td>\n",
       "      <td>mmsgsrtxah@gmail.com</td>\n",
       "      <td>43.08</td>\n",
       "      <td>2015</td>\n",
       "    </tr>\n",
       "    <tr>\n",
       "      <th>...</th>\n",
       "      <td>...</td>\n",
       "      <td>...</td>\n",
       "      <td>...</td>\n",
       "      <td>...</td>\n",
       "    </tr>\n",
       "    <tr>\n",
       "      <th>685922</th>\n",
       "      <td>685922</td>\n",
       "      <td>qzqttwiftu@gmail.com</td>\n",
       "      <td>184.58</td>\n",
       "      <td>2017</td>\n",
       "    </tr>\n",
       "    <tr>\n",
       "      <th>685923</th>\n",
       "      <td>685923</td>\n",
       "      <td>pjodiifjop@gmail.com</td>\n",
       "      <td>133.03</td>\n",
       "      <td>2017</td>\n",
       "    </tr>\n",
       "    <tr>\n",
       "      <th>685924</th>\n",
       "      <td>685924</td>\n",
       "      <td>appaplmgko@gmail.com</td>\n",
       "      <td>200.98</td>\n",
       "      <td>2017</td>\n",
       "    </tr>\n",
       "    <tr>\n",
       "      <th>685925</th>\n",
       "      <td>685925</td>\n",
       "      <td>wvkpmwsgck@gmail.com</td>\n",
       "      <td>235.35</td>\n",
       "      <td>2017</td>\n",
       "    </tr>\n",
       "    <tr>\n",
       "      <th>685926</th>\n",
       "      <td>685926</td>\n",
       "      <td>aregboumbw@gmail.com</td>\n",
       "      <td>208.43</td>\n",
       "      <td>2017</td>\n",
       "    </tr>\n",
       "  </tbody>\n",
       "</table>\n",
       "<p>685927 rows × 4 columns</p>\n",
       "</div>"
      ],
      "text/plain": [
       "        Unnamed: 0         customer_email  net_revenue  year\n",
       "0                0   nhknapwsbx@gmail.com       249.92  2015\n",
       "1                1   joiuzbvcpn@gmail.com        87.61  2015\n",
       "2                2   ukkjctepxt@gmail.com       168.38  2015\n",
       "3                3   gykatilzrt@gmail.com        62.40  2015\n",
       "4                4   mmsgsrtxah@gmail.com        43.08  2015\n",
       "...            ...                    ...          ...   ...\n",
       "685922      685922   qzqttwiftu@gmail.com       184.58  2017\n",
       "685923      685923   pjodiifjop@gmail.com       133.03  2017\n",
       "685924      685924   appaplmgko@gmail.com       200.98  2017\n",
       "685925      685925   wvkpmwsgck@gmail.com       235.35  2017\n",
       "685926      685926   aregboumbw@gmail.com       208.43  2017\n",
       "\n",
       "[685927 rows x 4 columns]"
      ]
     },
     "execution_count": 30,
     "metadata": {},
     "output_type": "execute_result"
    }
   ],
   "source": [
    "data"
   ]
  },
  {
   "cell_type": "code",
   "execution_count": 31,
   "metadata": {},
   "outputs": [
    {
     "name": "stdout",
     "output_type": "stream",
     "text": [
      "<class 'pandas.core.frame.DataFrame'>\n",
      "RangeIndex: 685927 entries, 0 to 685926\n",
      "Data columns (total 4 columns):\n",
      " #   Column          Non-Null Count   Dtype  \n",
      "---  ------          --------------   -----  \n",
      " 0   Unnamed: 0      685927 non-null  int64  \n",
      " 1   customer_email  685927 non-null  object \n",
      " 2   net_revenue     685927 non-null  float64\n",
      " 3   year            685927 non-null  int64  \n",
      "dtypes: float64(1), int64(2), object(1)\n",
      "memory usage: 20.9+ MB\n"
     ]
    }
   ],
   "source": [
    "data.info()"
   ]
  },
  {
   "cell_type": "code",
   "execution_count": 32,
   "metadata": {},
   "outputs": [
    {
     "data": {
      "text/html": [
       "<div>\n",
       "<style scoped>\n",
       "    .dataframe tbody tr th:only-of-type {\n",
       "        vertical-align: middle;\n",
       "    }\n",
       "\n",
       "    .dataframe tbody tr th {\n",
       "        vertical-align: top;\n",
       "    }\n",
       "\n",
       "    .dataframe thead th {\n",
       "        text-align: right;\n",
       "    }\n",
       "</style>\n",
       "<table border=\"1\" class=\"dataframe\">\n",
       "  <thead>\n",
       "    <tr style=\"text-align: right;\">\n",
       "      <th></th>\n",
       "      <th>net_revenue</th>\n",
       "    </tr>\n",
       "    <tr>\n",
       "      <th>year</th>\n",
       "      <th></th>\n",
       "    </tr>\n",
       "  </thead>\n",
       "  <tbody>\n",
       "    <tr>\n",
       "      <th>2015</th>\n",
       "      <td>29036749.19</td>\n",
       "    </tr>\n",
       "    <tr>\n",
       "      <th>2016</th>\n",
       "      <td>25730943.59</td>\n",
       "    </tr>\n",
       "    <tr>\n",
       "      <th>2017</th>\n",
       "      <td>31417495.03</td>\n",
       "    </tr>\n",
       "  </tbody>\n",
       "</table>\n",
       "</div>"
      ],
      "text/plain": [
       "      net_revenue\n",
       "year             \n",
       "2015  29036749.19\n",
       "2016  25730943.59\n",
       "2017  31417495.03"
      ]
     },
     "execution_count": 32,
     "metadata": {},
     "output_type": "execute_result"
    }
   ],
   "source": [
    "###1 \n",
    "\n",
    "data.groupby('year').agg({'net_revenue':'sum'})"
   ]
  },
  {
   "cell_type": "code",
   "execution_count": 33,
   "metadata": {},
   "outputs": [
    {
     "data": {
      "text/plain": [
       "<AxesSubplot:xlabel='year'>"
      ]
     },
     "execution_count": 33,
     "metadata": {},
     "output_type": "execute_result"
    },
    {
     "data": {
      "image/png": "[encoded data removed]",
      "text/plain": [
       "<Figure size 432x288 with 1 Axes>"
      ]
     },
     "metadata": {
      "needs_background": "light"
     },
     "output_type": "display_data"
    }
   ],
   "source": [
    "data.groupby('year').agg({'net_revenue':'sum'}).plot(kind= 'bar')"
   ]
  },
  {
   "cell_type": "code",
   "execution_count": 54,
   "metadata": {},
   "outputs": [
    {
     "data": {
      "text/plain": [
       "<AxesSubplot:xlabel='year'>"
      ]
     },
     "execution_count": 54,
     "metadata": {},
     "output_type": "execute_result"
    },
    {
     "data": {
      "image/png": "[encoded data removed]",
      "text/plain": [
       "<Figure size 432x288 with 1 Axes>"
      ]
     },
     "metadata": {
      "needs_background": "light"
     },
     "output_type": "display_data"
    }
   ],
   "source": [
    "# 2. new customer\n",
    "data.groupby('year').agg({'customer_email':'count'}).plot(kind='bar')"
   ]
  },
  {
   "cell_type": "code",
   "execution_count": 49,
   "metadata": {},
   "outputs": [],
   "source": [
    "# Because the email is unique, find the new by using the difference between the (whole customer - old customer)\n",
    "\n",
    "data1 = data [data['year']==2015]\n",
    "data2 = data [data['year']==2016]\n",
    "data3 = data [data['year']==2017]\n",
    "data4 = data [(data['year']==2015)|(data['year']==2016)]\n",
    "\n",
    "\n",
    "DataX = pd.concat([data1,data2]).drop_duplicates('customer_email') # 376356\n",
    "DataY = pd.concat([data4,data3]).drop_duplicates('customer_email')  # 604618\n",
    "\n",
    "# So the first year 2016, new customer number is 231294+204646-376356 = 59587\n",
    "# Same reason, 2017 is 81309\n",
    "\n",
    "# If you want to calculate the total, total = 59587+81309\n"
   ]
  },
  {
   "cell_type": "code",
   "execution_count": 45,
   "metadata": {},
   "outputs": [
    {
     "data": {
      "text/html": [
       "<div>\n",
       "<style scoped>\n",
       "    .dataframe tbody tr th:only-of-type {\n",
       "        vertical-align: middle;\n",
       "    }\n",
       "\n",
       "    .dataframe tbody tr th {\n",
       "        vertical-align: top;\n",
       "    }\n",
       "\n",
       "    .dataframe thead th {\n",
       "        text-align: right;\n",
       "    }\n",
       "</style>\n",
       "<table border=\"1\" class=\"dataframe\">\n",
       "  <thead>\n",
       "    <tr style=\"text-align: right;\">\n",
       "      <th></th>\n",
       "      <th>net_revenue</th>\n",
       "    </tr>\n",
       "    <tr>\n",
       "      <th>year</th>\n",
       "      <th></th>\n",
       "    </tr>\n",
       "  </thead>\n",
       "  <tbody>\n",
       "    <tr>\n",
       "      <th>2015</th>\n",
       "      <td>29036749.19</td>\n",
       "    </tr>\n",
       "    <tr>\n",
       "      <th>2016</th>\n",
       "      <td>25730943.59</td>\n",
       "    </tr>\n",
       "    <tr>\n",
       "      <th>2017</th>\n",
       "      <td>31417495.03</td>\n",
       "    </tr>\n",
       "  </tbody>\n",
       "</table>\n",
       "</div>"
      ],
      "text/plain": [
       "      net_revenue\n",
       "year             \n",
       "2015  29036749.19\n",
       "2016  25730943.59\n",
       "2017  31417495.03"
      ]
     },
     "execution_count": 45,
     "metadata": {},
     "output_type": "execute_result"
    }
   ],
   "source": [
    "#3.\n",
    "data.groupby('year').agg({'net_revenue':'sum'})\n",
    "## for 2016, \n"
   ]
  },
  {
   "cell_type": "code",
   "execution_count": 51,
   "metadata": {},
   "outputs": [
    {
     "data": {
      "text/html": [
       "<div>\n",
       "<style scoped>\n",
       "    .dataframe tbody tr th:only-of-type {\n",
       "        vertical-align: middle;\n",
       "    }\n",
       "\n",
       "    .dataframe tbody tr th {\n",
       "        vertical-align: top;\n",
       "    }\n",
       "\n",
       "    .dataframe thead th {\n",
       "        text-align: right;\n",
       "    }\n",
       "</style>\n",
       "<table border=\"1\" class=\"dataframe\">\n",
       "  <thead>\n",
       "    <tr style=\"text-align: right;\">\n",
       "      <th></th>\n",
       "      <th>net_revenue</th>\n",
       "    </tr>\n",
       "    <tr>\n",
       "      <th>year</th>\n",
       "      <th></th>\n",
       "    </tr>\n",
       "  </thead>\n",
       "  <tbody>\n",
       "    <tr>\n",
       "      <th>2015</th>\n",
       "      <td>29036749.19</td>\n",
       "    </tr>\n",
       "    <tr>\n",
       "      <th>2016</th>\n",
       "      <td>18245491.01</td>\n",
       "    </tr>\n",
       "    <tr>\n",
       "      <th>2017</th>\n",
       "      <td>28676607.64</td>\n",
       "    </tr>\n",
       "  </tbody>\n",
       "</table>\n",
       "</div>"
      ],
      "text/plain": [
       "      net_revenue\n",
       "year             \n",
       "2015  29036749.19\n",
       "2016  18245491.01\n",
       "2017  28676607.64"
      ]
     },
     "execution_count": 51,
     "metadata": {},
     "output_type": "execute_result"
    }
   ],
   "source": [
    "### For the revenue\n",
    "## new customer revenue 2016 = whole revenue(2015+2016)-old customer revenue(2015+2016)\n",
    "DataY.groupby('year').agg({'net_revenue':'sum'})\n",
    "\n",
    "##  The new customer revenue 2016 = 25730943.59 - 18245491.01 = 7485452.58\n",
    "## Same reason fpr 2017 = whole 3 years - whole 3 years old customer  = 10226339.97\n"
   ]
  },
  {
   "cell_type": "code",
   "execution_count": 47,
   "metadata": {},
   "outputs": [
    {
     "data": {
      "text/plain": [
       "-3305805.6000000015"
      ]
     },
     "execution_count": 47,
     "metadata": {},
     "output_type": "execute_result"
    }
   ],
   "source": [
    "## for 2016,\n",
    "Existing_Customer_Growth_2016 = 25730943.59 -29036749.19\n",
    "Existing_Customer_Growth_2016"
   ]
  },
  {
   "cell_type": "code",
   "execution_count": 48,
   "metadata": {},
   "outputs": [
    {
     "data": {
      "text/plain": [
       "5686551.440000001"
      ]
     },
     "execution_count": 48,
     "metadata": {},
     "output_type": "execute_result"
    }
   ],
   "source": [
    "Existing_Customer_Growth_2017 = 31417495.03 - 25730943.59\n",
    "Existing_Customer_Growth_2017"
   ]
  },
  {
   "cell_type": "code",
   "execution_count": 52,
   "metadata": {},
   "outputs": [
    {
     "data": {
      "text/html": [
       "<div>\n",
       "<style scoped>\n",
       "    .dataframe tbody tr th:only-of-type {\n",
       "        vertical-align: middle;\n",
       "    }\n",
       "\n",
       "    .dataframe tbody tr th {\n",
       "        vertical-align: top;\n",
       "    }\n",
       "\n",
       "    .dataframe thead th {\n",
       "        text-align: right;\n",
       "    }\n",
       "</style>\n",
       "<table border=\"1\" class=\"dataframe\">\n",
       "  <thead>\n",
       "    <tr style=\"text-align: right;\">\n",
       "      <th></th>\n",
       "      <th>Unnamed: 0_x</th>\n",
       "      <th>customer_email</th>\n",
       "      <th>net_revenue_x</th>\n",
       "      <th>year_x</th>\n",
       "      <th>Unnamed: 0_y</th>\n",
       "      <th>net_revenue_y</th>\n",
       "      <th>year_y</th>\n",
       "    </tr>\n",
       "  </thead>\n",
       "  <tbody>\n",
       "    <tr>\n",
       "      <th>0</th>\n",
       "      <td>8</td>\n",
       "      <td>baiikostmd@gmail.com</td>\n",
       "      <td>170.70</td>\n",
       "      <td>2015</td>\n",
       "      <td>231302</td>\n",
       "      <td>142.57</td>\n",
       "      <td>2016</td>\n",
       "    </tr>\n",
       "    <tr>\n",
       "      <th>1</th>\n",
       "      <td>9</td>\n",
       "      <td>lfeafnigbu@gmail.com</td>\n",
       "      <td>54.99</td>\n",
       "      <td>2015</td>\n",
       "      <td>231303</td>\n",
       "      <td>35.06</td>\n",
       "      <td>2016</td>\n",
       "    </tr>\n",
       "    <tr>\n",
       "      <th>2</th>\n",
       "      <td>15</td>\n",
       "      <td>tqxsjlgjpi@gmail.com</td>\n",
       "      <td>107.71</td>\n",
       "      <td>2015</td>\n",
       "      <td>231309</td>\n",
       "      <td>33.50</td>\n",
       "      <td>2016</td>\n",
       "    </tr>\n",
       "    <tr>\n",
       "      <th>3</th>\n",
       "      <td>16</td>\n",
       "      <td>hxshgpdxtr@gmail.com</td>\n",
       "      <td>180.59</td>\n",
       "      <td>2015</td>\n",
       "      <td>231310</td>\n",
       "      <td>217.35</td>\n",
       "      <td>2016</td>\n",
       "    </tr>\n",
       "    <tr>\n",
       "      <th>4</th>\n",
       "      <td>24</td>\n",
       "      <td>zvhsssvgor@gmail.com</td>\n",
       "      <td>21.55</td>\n",
       "      <td>2015</td>\n",
       "      <td>231318</td>\n",
       "      <td>43.84</td>\n",
       "      <td>2016</td>\n",
       "    </tr>\n",
       "    <tr>\n",
       "      <th>...</th>\n",
       "      <td>...</td>\n",
       "      <td>...</td>\n",
       "      <td>...</td>\n",
       "      <td>...</td>\n",
       "      <td>...</td>\n",
       "      <td>...</td>\n",
       "      <td>...</td>\n",
       "    </tr>\n",
       "    <tr>\n",
       "      <th>59579</th>\n",
       "      <td>204631</td>\n",
       "      <td>tpdtoiokyt@gmail.com</td>\n",
       "      <td>82.88</td>\n",
       "      <td>2015</td>\n",
       "      <td>435925</td>\n",
       "      <td>5.60</td>\n",
       "      <td>2016</td>\n",
       "    </tr>\n",
       "    <tr>\n",
       "      <th>59580</th>\n",
       "      <td>204633</td>\n",
       "      <td>yeserbsmyf@gmail.com</td>\n",
       "      <td>46.60</td>\n",
       "      <td>2015</td>\n",
       "      <td>435927</td>\n",
       "      <td>83.72</td>\n",
       "      <td>2016</td>\n",
       "    </tr>\n",
       "    <tr>\n",
       "      <th>59581</th>\n",
       "      <td>204636</td>\n",
       "      <td>nyunstvnpc@gmail.com</td>\n",
       "      <td>24.97</td>\n",
       "      <td>2015</td>\n",
       "      <td>435930</td>\n",
       "      <td>18.56</td>\n",
       "      <td>2016</td>\n",
       "    </tr>\n",
       "    <tr>\n",
       "      <th>59582</th>\n",
       "      <td>204641</td>\n",
       "      <td>mezrjfkced@gmail.com</td>\n",
       "      <td>118.19</td>\n",
       "      <td>2015</td>\n",
       "      <td>435935</td>\n",
       "      <td>114.17</td>\n",
       "      <td>2016</td>\n",
       "    </tr>\n",
       "    <tr>\n",
       "      <th>59583</th>\n",
       "      <td>204645</td>\n",
       "      <td>kxqglfdktu@gmail.com</td>\n",
       "      <td>73.32</td>\n",
       "      <td>2015</td>\n",
       "      <td>435939</td>\n",
       "      <td>37.31</td>\n",
       "      <td>2016</td>\n",
       "    </tr>\n",
       "  </tbody>\n",
       "</table>\n",
       "<p>59584 rows × 7 columns</p>\n",
       "</div>"
      ],
      "text/plain": [
       "       Unnamed: 0_x         customer_email  net_revenue_x  year_x  \\\n",
       "0                 8   baiikostmd@gmail.com         170.70    2015   \n",
       "1                 9   lfeafnigbu@gmail.com          54.99    2015   \n",
       "2                15   tqxsjlgjpi@gmail.com         107.71    2015   \n",
       "3                16   hxshgpdxtr@gmail.com         180.59    2015   \n",
       "4                24   zvhsssvgor@gmail.com          21.55    2015   \n",
       "...             ...                    ...            ...     ...   \n",
       "59579        204631   tpdtoiokyt@gmail.com          82.88    2015   \n",
       "59580        204633   yeserbsmyf@gmail.com          46.60    2015   \n",
       "59581        204636   nyunstvnpc@gmail.com          24.97    2015   \n",
       "59582        204641   mezrjfkced@gmail.com         118.19    2015   \n",
       "59583        204645   kxqglfdktu@gmail.com          73.32    2015   \n",
       "\n",
       "       Unnamed: 0_y  net_revenue_y  year_y  \n",
       "0            231302         142.57    2016  \n",
       "1            231303          35.06    2016  \n",
       "2            231309          33.50    2016  \n",
       "3            231310         217.35    2016  \n",
       "4            231318          43.84    2016  \n",
       "...             ...            ...     ...  \n",
       "59579        435925           5.60    2016  \n",
       "59580        435927          83.72    2016  \n",
       "59581        435930          18.56    2016  \n",
       "59582        435935         114.17    2016  \n",
       "59583        435939          37.31    2016  \n",
       "\n",
       "[59584 rows x 7 columns]"
      ]
     },
     "execution_count": 52,
     "metadata": {},
     "output_type": "execute_result"
    }
   ],
   "source": [
    "## Lost customer\n",
    "\n",
    "pd.merge(data1, data2, on='customer_email')\n",
    "\n",
    "## for 2016 the lost customer number is Customer Number 2016 - Customer(2015+2016) = 231294 - 59584 = 171710\n"
   ]
  },
  {
   "cell_type": "code",
   "execution_count": 53,
   "metadata": {},
   "outputs": [
    {
     "data": {
      "text/html": [
       "<div>\n",
       "<style scoped>\n",
       "    .dataframe tbody tr th:only-of-type {\n",
       "        vertical-align: middle;\n",
       "    }\n",
       "\n",
       "    .dataframe tbody tr th {\n",
       "        vertical-align: top;\n",
       "    }\n",
       "\n",
       "    .dataframe thead th {\n",
       "        text-align: right;\n",
       "    }\n",
       "</style>\n",
       "<table border=\"1\" class=\"dataframe\">\n",
       "  <thead>\n",
       "    <tr style=\"text-align: right;\">\n",
       "      <th></th>\n",
       "      <th>Unnamed: 0_x</th>\n",
       "      <th>customer_email</th>\n",
       "      <th>net_revenue_x</th>\n",
       "      <th>year_x</th>\n",
       "      <th>Unnamed: 0_y</th>\n",
       "      <th>net_revenue_y</th>\n",
       "      <th>year_y</th>\n",
       "    </tr>\n",
       "  </thead>\n",
       "  <tbody>\n",
       "    <tr>\n",
       "      <th>0</th>\n",
       "      <td>435947</td>\n",
       "      <td>yixtbjnxce@gmail.com</td>\n",
       "      <td>133.86</td>\n",
       "      <td>2017</td>\n",
       "      <td>231301</td>\n",
       "      <td>201.32</td>\n",
       "      <td>2016</td>\n",
       "    </tr>\n",
       "    <tr>\n",
       "      <th>1</th>\n",
       "      <td>435953</td>\n",
       "      <td>gwqjyelgct@gmail.com</td>\n",
       "      <td>164.10</td>\n",
       "      <td>2017</td>\n",
       "      <td>231307</td>\n",
       "      <td>14.62</td>\n",
       "      <td>2016</td>\n",
       "    </tr>\n",
       "    <tr>\n",
       "      <th>2</th>\n",
       "      <td>435956</td>\n",
       "      <td>hxshgpdxtr@gmail.com</td>\n",
       "      <td>178.10</td>\n",
       "      <td>2017</td>\n",
       "      <td>16</td>\n",
       "      <td>180.59</td>\n",
       "      <td>2015</td>\n",
       "    </tr>\n",
       "    <tr>\n",
       "      <th>3</th>\n",
       "      <td>435956</td>\n",
       "      <td>hxshgpdxtr@gmail.com</td>\n",
       "      <td>178.10</td>\n",
       "      <td>2017</td>\n",
       "      <td>231310</td>\n",
       "      <td>217.35</td>\n",
       "      <td>2016</td>\n",
       "    </tr>\n",
       "    <tr>\n",
       "      <th>4</th>\n",
       "      <td>435968</td>\n",
       "      <td>gipqsrvngd@gmail.com</td>\n",
       "      <td>172.90</td>\n",
       "      <td>2017</td>\n",
       "      <td>28</td>\n",
       "      <td>122.71</td>\n",
       "      <td>2015</td>\n",
       "    </tr>\n",
       "    <tr>\n",
       "      <th>...</th>\n",
       "      <td>...</td>\n",
       "      <td>...</td>\n",
       "      <td>...</td>\n",
       "      <td>...</td>\n",
       "      <td>...</td>\n",
       "      <td>...</td>\n",
       "      <td>...</td>\n",
       "    </tr>\n",
       "    <tr>\n",
       "      <th>27882</th>\n",
       "      <td>640568</td>\n",
       "      <td>ecrvkbfunu@gmail.com</td>\n",
       "      <td>205.42</td>\n",
       "      <td>2017</td>\n",
       "      <td>435922</td>\n",
       "      <td>230.49</td>\n",
       "      <td>2016</td>\n",
       "    </tr>\n",
       "    <tr>\n",
       "      <th>27883</th>\n",
       "      <td>640571</td>\n",
       "      <td>tpdtoiokyt@gmail.com</td>\n",
       "      <td>242.63</td>\n",
       "      <td>2017</td>\n",
       "      <td>204631</td>\n",
       "      <td>82.88</td>\n",
       "      <td>2015</td>\n",
       "    </tr>\n",
       "    <tr>\n",
       "      <th>27884</th>\n",
       "      <td>640571</td>\n",
       "      <td>tpdtoiokyt@gmail.com</td>\n",
       "      <td>242.63</td>\n",
       "      <td>2017</td>\n",
       "      <td>435925</td>\n",
       "      <td>5.60</td>\n",
       "      <td>2016</td>\n",
       "    </tr>\n",
       "    <tr>\n",
       "      <th>27885</th>\n",
       "      <td>640580</td>\n",
       "      <td>dcakqgznnm@gmail.com</td>\n",
       "      <td>62.66</td>\n",
       "      <td>2017</td>\n",
       "      <td>435934</td>\n",
       "      <td>146.47</td>\n",
       "      <td>2016</td>\n",
       "    </tr>\n",
       "    <tr>\n",
       "      <th>27886</th>\n",
       "      <td>640583</td>\n",
       "      <td>fkweqlmmjw@gmail.com</td>\n",
       "      <td>21.78</td>\n",
       "      <td>2017</td>\n",
       "      <td>435937</td>\n",
       "      <td>79.71</td>\n",
       "      <td>2016</td>\n",
       "    </tr>\n",
       "  </tbody>\n",
       "</table>\n",
       "<p>27887 rows × 7 columns</p>\n",
       "</div>"
      ],
      "text/plain": [
       "       Unnamed: 0_x        customer_email  net_revenue_x  year_x  \\\n",
       "0            435947  yixtbjnxce@gmail.com         133.86    2017   \n",
       "1            435953  gwqjyelgct@gmail.com         164.10    2017   \n",
       "2            435956  hxshgpdxtr@gmail.com         178.10    2017   \n",
       "3            435956  hxshgpdxtr@gmail.com         178.10    2017   \n",
       "4            435968  gipqsrvngd@gmail.com         172.90    2017   \n",
       "...             ...                   ...            ...     ...   \n",
       "27882        640568  ecrvkbfunu@gmail.com         205.42    2017   \n",
       "27883        640571  tpdtoiokyt@gmail.com         242.63    2017   \n",
       "27884        640571  tpdtoiokyt@gmail.com         242.63    2017   \n",
       "27885        640580  dcakqgznnm@gmail.com          62.66    2017   \n",
       "27886        640583  fkweqlmmjw@gmail.com          21.78    2017   \n",
       "\n",
       "       Unnamed: 0_y  net_revenue_y  year_y  \n",
       "0            231301         201.32    2016  \n",
       "1            231307          14.62    2016  \n",
       "2                16         180.59    2015  \n",
       "3            231310         217.35    2016  \n",
       "4                28         122.71    2015  \n",
       "...             ...            ...     ...  \n",
       "27882        435922         230.49    2016  \n",
       "27883        204631          82.88    2015  \n",
       "27884        435925           5.60    2016  \n",
       "27885        435934         146.47    2016  \n",
       "27886        435937          79.71    2016  \n",
       "\n",
       "[27887 rows x 7 columns]"
      ]
     },
     "execution_count": 53,
     "metadata": {},
     "output_type": "execute_result"
    }
   ],
   "source": [
    "pd.merge(data3, data4, on='customer_email')\n",
    "\n",
    "## Same reason for 2017 = 408 053"
   ]
  },
  {
   "cell_type": "code",
   "execution_count": null,
   "metadata": {},
   "outputs": [],
   "source": [
    "## Sorry for this \n",
    "\n",
    "# I know how to darw the graph but the deadline only 15 minutes left\n",
    "# I am sorry, I have 4 assignments this week, I sleep at 3 am and wake up at 10 for two weeks\n",
    "# Sorry for this all I have.\n",
    "\n",
    "# I can implement a html page by PyWebIO if I have more time."
   ]
  }
 ],
 "metadata": {
  "kernelspec": {
   "display_name": "Python 3",
   "language": "python",
   "name": "python3"
  },
  "language_info": {
   "codemirror_mode": {
    "name": "ipython",
    "version": 3
   },
   "file_extension": ".py",
   "mimetype": "text/x-python",
   "name": "python",
   "nbconvert_exporter": "python",
   "pygments_lexer": "ipython3",
   "version": "3.8.5"
  }
 },
 "nbformat": 4,
 "nbformat_minor": 4
}
